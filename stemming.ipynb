{
  "nbformat": 4,
  "nbformat_minor": 0,
  "metadata": {
    "colab": {
      "name": "stemming.ipynb",
      "version": "0.3.2",
      "provenance": [],
      "include_colab_link": true
    },
    "kernelspec": {
      "name": "python3",
      "display_name": "Python 3"
    }
  },
  "cells": [
    {
      "cell_type": "markdown",
      "metadata": {
        "id": "view-in-github",
        "colab_type": "text"
      },
      "source": [
        "<a href=\"https://colab.research.google.com/github/prayasshrivastava/Machine-learning/blob/master/stemming.ipynb\" target=\"_parent\"><img src=\"https://colab.research.google.com/assets/colab-badge.svg\" alt=\"Open In Colab\"/></a>"
      ]
    },
    {
      "cell_type": "code",
      "metadata": {
        "id": "Zlx1osAvdyUs",
        "colab_type": "code",
        "colab": {}
      },
      "source": [
        "from nltk import stem\n",
        "from nltk.stem import PorterStemmer          # for steamming\n",
        "from nltk.stem import WordNetLemmatizer      # lemma"
      ],
      "execution_count": 0,
      "outputs": []
    },
    {
      "cell_type": "code",
      "metadata": {
        "id": "4xHgd4TreOvJ",
        "colab_type": "code",
        "colab": {}
      },
      "source": [
        "# stemming\n",
        "import time\n",
        "port=PorterStemmer()"
      ],
      "execution_count": 0,
      "outputs": []
    },
    {
      "cell_type": "code",
      "metadata": {
        "id": "92CTYNrFea-X",
        "colab_type": "code",
        "colab": {
          "base_uri": "https://localhost:8080/",
          "height": 201
        },
        "outputId": "86e93ee1-932e-4e1d-f8a9-0cdf3e4c5f83"
      },
      "source": [
        "# word suppy\n",
        "\n",
        "for i in ['going','goes','go','intelligent','intelligence','goes','intelligently','feet','foot','cars','car']:\n",
        "  print(port.stem(i))\n",
        "  time.sleep(1)"
      ],
      "execution_count": 6,
      "outputs": [
        {
          "output_type": "stream",
          "text": [
            "go\n",
            "goe\n",
            "go\n",
            "intellig\n",
            "intellig\n",
            "goe\n",
            "intellig\n",
            "feet\n",
            "foot\n",
            "car\n",
            "car\n"
          ],
          "name": "stdout"
        }
      ]
    },
    {
      "cell_type": "code",
      "metadata": {
        "id": "mtt3t2I9e-PK",
        "colab_type": "code",
        "colab": {}
      },
      "source": [
        ""
      ],
      "execution_count": 0,
      "outputs": []
    }
  ]
}