{
  "nbformat": 4,
  "nbformat_minor": 0,
  "metadata": {
    "colab": {
      "name": "Numpy.ipynb",
      "version": "0.3.2",
      "provenance": [],
      "include_colab_link": true
    },
    "kernelspec": {
      "name": "python3",
      "display_name": "Python 3"
    }
  },
  "cells": [
    {
      "cell_type": "markdown",
      "metadata": {
        "id": "view-in-github",
        "colab_type": "text"
      },
      "source": [
        "<a href=\"https://colab.research.google.com/github/prayasshrivastava/Machine-learning/blob/master/Numpy.ipynb\" target=\"_parent\"><img src=\"https://colab.research.google.com/assets/colab-badge.svg\" alt=\"Open In Colab\"/></a>"
      ]
    },
    {
      "cell_type": "code",
      "metadata": {
        "id": "h6TC_RXpoCG1",
        "colab_type": "code",
        "colab": {
          "base_uri": "https://localhost:8080/",
          "height": 34
        },
        "outputId": "3e47c0aa-0c55-4acf-ad24-fc9fa2164822"
      },
      "source": [
        "import numpy as np\n",
        "a=np.array([1,2,3])    #for printing one dimensional array\n",
        "print(a)"
      ],
      "execution_count": 4,
      "outputs": [
        {
          "output_type": "stream",
          "text": [
            "[1 2 3]\n"
          ],
          "name": "stdout"
        }
      ]
    },
    {
      "cell_type": "code",
      "metadata": {
        "id": "U90pNB0rtKxA",
        "colab_type": "code",
        "colab": {
          "base_uri": "https://localhost:8080/",
          "height": 50
        },
        "outputId": "2931907d-a976-4c48-fa1d-68c55e65dd74"
      },
      "source": [
        "a=np.array([(1,2,3),(4,5,6)])    #for printing two dimensional array\n",
        "print(a)"
      ],
      "execution_count": 6,
      "outputs": [
        {
          "output_type": "stream",
          "text": [
            "[[1 2 3]\n",
            " [4 5 6]]\n"
          ],
          "name": "stdout"
        }
      ]
    },
    {
      "cell_type": "code",
      "metadata": {
        "id": "b8KPl7HUt0VF",
        "colab_type": "code",
        "colab": {
          "base_uri": "https://localhost:8080/",
          "height": 50
        },
        "outputId": "5f4db84c-1838-4061-9f7d-f39db64710c9"
      },
      "source": [
        "# difference between list and numpy\n",
        "import numpy as np\n",
        "import time\n",
        "import sys\n",
        "s=range(1000)\n",
        "print(sys.getsizeof(5)*len(s))    #memory  occupied by list\n",
        "d=np.arange(1000)\n",
        "print(d.size*d.itemsize)          #memory occupied by the numpy\n",
        "\n"
      ],
      "execution_count": 12,
      "outputs": [
        {
          "output_type": "stream",
          "text": [
            "28000\n",
            "8000\n"
          ],
          "name": "stdout"
        }
      ]
    },
    {
      "cell_type": "code",
      "metadata": {
        "id": "e2D3gbaYvLcr",
        "colab_type": "code",
        "colab": {
          "base_uri": "https://localhost:8080/",
          "height": 34
        },
        "outputId": "895c3100-d663-4709-b014-18063622be20"
      },
      "source": [
        "import numpy as np \n",
        "a=np.array([(1,2,3),(4,5,6)])\n",
        "print(a.ndim)                   #print dimension of array"
      ],
      "execution_count": 18,
      "outputs": [
        {
          "output_type": "stream",
          "text": [
            "2\n"
          ],
          "name": "stdout"
        }
      ]
    },
    {
      "cell_type": "code",
      "metadata": {
        "id": "L0O1OHrryMMF",
        "colab_type": "code",
        "colab": {
          "base_uri": "https://localhost:8080/",
          "height": 50
        },
        "outputId": "0b6e8eb2-09bb-4ede-da0f-e8b98708cc92"
      },
      "source": [
        "print(a.itemsize)           #occupied memory\n",
        "print(a.dtype)              #data type"
      ],
      "execution_count": 19,
      "outputs": [
        {
          "output_type": "stream",
          "text": [
            "8\n",
            "int64\n"
          ],
          "name": "stdout"
        }
      ]
    },
    {
      "cell_type": "code",
      "metadata": {
        "id": "N9ES4rnPyanr",
        "colab_type": "code",
        "colab": {
          "base_uri": "https://localhost:8080/",
          "height": 50
        },
        "outputId": "60c6badb-9bd0-41bc-c4b7-82b30309166a"
      },
      "source": [
        "print(a.size)       # print size of array\n",
        "print(a.shape)      # print shape of array"
      ],
      "execution_count": 20,
      "outputs": [
        {
          "output_type": "stream",
          "text": [
            "6\n",
            "(2, 3)\n"
          ],
          "name": "stdout"
        }
      ]
    },
    {
      "cell_type": "code",
      "metadata": {
        "id": "PspVriDpy7eC",
        "colab_type": "code",
        "colab": {
          "base_uri": "https://localhost:8080/",
          "height": 84
        },
        "outputId": "e2cf2cef-a928-4534-f12c-f766688444ed"
      },
      "source": [
        "b=np.array([(1,2,3,4),(5,6,7,8)])\n",
        "c=b.reshape(4,2)                            #reshape the array\n",
        "print(c)"
      ],
      "execution_count": 22,
      "outputs": [
        {
          "output_type": "stream",
          "text": [
            "[[1 2]\n",
            " [3 4]\n",
            " [5 6]\n",
            " [7 8]]\n"
          ],
          "name": "stdout"
        }
      ]
    },
    {
      "cell_type": "code",
      "metadata": {
        "id": "L6zC9hM00ASE",
        "colab_type": "code",
        "colab": {
          "base_uri": "https://localhost:8080/",
          "height": 34
        },
        "outputId": "873818c2-3abb-45d7-f01f-a6ab46effd4f"
      },
      "source": [
        "#slicing concept in numpy\n",
        "\n",
        "print(c[3,1])\n"
      ],
      "execution_count": 23,
      "outputs": [
        {
          "output_type": "stream",
          "text": [
            "8\n"
          ],
          "name": "stdout"
        }
      ]
    },
    {
      "cell_type": "code",
      "metadata": {
        "id": "RDIi8SEu1JP3",
        "colab_type": "code",
        "colab": {
          "base_uri": "https://localhost:8080/",
          "height": 34
        },
        "outputId": "2babf15d-3cb1-45ab-e8c1-e9029217f078"
      },
      "source": [
        "print(b[0:,2])"
      ],
      "execution_count": 24,
      "outputs": [
        {
          "output_type": "stream",
          "text": [
            "[3 7]\n"
          ],
          "name": "stdout"
        }
      ]
    },
    {
      "cell_type": "code",
      "metadata": {
        "id": "hsCaPnIk1zLq",
        "colab_type": "code",
        "colab": {
          "base_uri": "https://localhost:8080/",
          "height": 34
        },
        "outputId": "150cc622-fb0c-4917-952d-9d91d173a5ea"
      },
      "source": [
        "b=np.array([(1,2,3,4),(5,4,7,5),(7,9,5,3)])\n",
        "print(b[0:2,3])"
      ],
      "execution_count": 25,
      "outputs": [
        {
          "output_type": "stream",
          "text": [
            "[4 5]\n"
          ],
          "name": "stdout"
        }
      ]
    },
    {
      "cell_type": "code",
      "metadata": {
        "id": "XFRraUNG2hZM",
        "colab_type": "code",
        "colab": {
          "base_uri": "https://localhost:8080/",
          "height": 50
        },
        "outputId": "706f30f7-33db-4de2-8ef8-e44de3bf5988"
      },
      "source": [
        "print(b[1:,[0,2]])"
      ],
      "execution_count": 26,
      "outputs": [
        {
          "output_type": "stream",
          "text": [
            "[[5 7]\n",
            " [7 5]]\n"
          ],
          "name": "stdout"
        }
      ]
    },
    {
      "cell_type": "code",
      "metadata": {
        "id": "zDQOrfZe2wPL",
        "colab_type": "code",
        "colab": {
          "base_uri": "https://localhost:8080/",
          "height": 50
        },
        "outputId": "4bb4b11a-f33d-475f-8ce0-39406d3ac36e"
      },
      "source": [
        "a=np.linspace(1,6,12)    # give the 12 values between 1 to 6\n",
        "print(a)"
      ],
      "execution_count": 32,
      "outputs": [
        {
          "output_type": "stream",
          "text": [
            "[1.         1.45454545 1.90909091 2.36363636 2.81818182 3.27272727\n",
            " 3.72727273 4.18181818 4.63636364 5.09090909 5.54545455 6.        ]\n"
          ],
          "name": "stdout"
        }
      ]
    },
    {
      "cell_type": "code",
      "metadata": {
        "id": "GpIT9q183FjD",
        "colab_type": "code",
        "colab": {
          "base_uri": "https://localhost:8080/",
          "height": 67
        },
        "outputId": "ab83028d-0538-4476-dbe7-2a466fce481c"
      },
      "source": [
        "print(b.max())             # printing maximum value of array\n",
        "print(b.min())             # printing minimum value f array\n",
        "print(b.sum())             # printing sum of array\n"
      ],
      "execution_count": 38,
      "outputs": [
        {
          "output_type": "stream",
          "text": [
            "9\n",
            "1\n",
            "55\n"
          ],
          "name": "stdout"
        }
      ]
    },
    {
      "cell_type": "code",
      "metadata": {
        "id": "LxSHiuWO4i8k",
        "colab_type": "code",
        "colab": {
          "base_uri": "https://localhost:8080/",
          "height": 50
        },
        "outputId": "2ec9fb82-c83b-4e16-c815-93409c0910e0"
      },
      "source": [
        "# Axis in numpy\n",
        "\n",
        "a=np.array([(1,2,3,4),(5,6,7,8)])\n",
        "print(a.sum(axis=0))\n",
        "print(a.sum(axis=1))"
      ],
      "execution_count": 39,
      "outputs": [
        {
          "output_type": "stream",
          "text": [
            "[ 6  8 10 12]\n",
            "[10 26]\n"
          ],
          "name": "stdout"
        }
      ]
    },
    {
      "cell_type": "code",
      "metadata": {
        "id": "c3TPnbh-6DLK",
        "colab_type": "code",
        "colab": {
          "base_uri": "https://localhost:8080/",
          "height": 67
        },
        "outputId": "c883f15b-48ef-445f-86d2-bb15d2f7d93d"
      },
      "source": [
        "print(np.sqrt(a))    # print sqare root of array\n",
        "print(np.std(a))     # print std. daviation of array"
      ],
      "execution_count": 42,
      "outputs": [
        {
          "output_type": "stream",
          "text": [
            "[[1.         1.41421356 1.73205081 2.        ]\n",
            " [2.23606798 2.44948974 2.64575131 2.82842712]]\n",
            "2.29128784747792\n"
          ],
          "name": "stdout"
        }
      ]
    },
    {
      "cell_type": "code",
      "metadata": {
        "id": "kkBQOt2D6b1c",
        "colab_type": "code",
        "colab": {
          "base_uri": "https://localhost:8080/",
          "height": 151
        },
        "outputId": "10e2ad10-b0c7-4564-953c-27c30c538ca2"
      },
      "source": [
        "a=np.array([(1,2,3,4),(5,6,7,8)])\n",
        "b=np.array([(1,2,3,4),(5,6,7,8)])\n",
        "print(a+b)                              #print sum of two matrix\n",
        "print(a-b)                              # print division of two matrix\n",
        "print(a*b)                              # print multiplication of two array\n",
        "print(a/b)                              # print division of two array"
      ],
      "execution_count": 44,
      "outputs": [
        {
          "output_type": "stream",
          "text": [
            "[[ 2  4  6  8]\n",
            " [10 12 14 16]]\n",
            "[[0 0 0 0]\n",
            " [0 0 0 0]]\n",
            "[[ 1  4  9 16]\n",
            " [25 36 49 64]]\n",
            "[[1. 1. 1. 1.]\n",
            " [1. 1. 1. 1.]]\n"
          ],
          "name": "stdout"
        }
      ]
    },
    {
      "cell_type": "code",
      "metadata": {
        "id": "73wVrT1X7gH2",
        "colab_type": "code",
        "colab": {
          "base_uri": "https://localhost:8080/",
          "height": 118
        },
        "outputId": "cd0c57b8-43c8-46f2-e677-b1fb4730c12e"
      },
      "source": [
        "print(np.hstack((a,b)))            # concadinate horizontally\n",
        "print(np.vstack((a,b)))            # cocadinate vertically"
      ],
      "execution_count": 45,
      "outputs": [
        {
          "output_type": "stream",
          "text": [
            "[[1 2 3 4 1 2 3 4]\n",
            " [5 6 7 8 5 6 7 8]]\n",
            "[[1 2 3 4]\n",
            " [5 6 7 8]\n",
            " [1 2 3 4]\n",
            " [5 6 7 8]]\n"
          ],
          "name": "stdout"
        }
      ]
    },
    {
      "cell_type": "code",
      "metadata": {
        "id": "eLeC0nLl8JN4",
        "colab_type": "code",
        "colab": {
          "base_uri": "https://localhost:8080/",
          "height": 34
        },
        "outputId": "047ca015-90a1-4e0b-ba1b-28d8a6a8d35d"
      },
      "source": [
        "print(a.ravel())                # printing in one row"
      ],
      "execution_count": 49,
      "outputs": [
        {
          "output_type": "stream",
          "text": [
            "[1 2 3 4 5 6 7 8]\n"
          ],
          "name": "stdout"
        }
      ]
    },
    {
      "cell_type": "code",
      "metadata": {
        "id": "ykz5zRqV9RD7",
        "colab_type": "code",
        "colab": {}
      },
      "source": [
        ""
      ],
      "execution_count": 0,
      "outputs": []
    },
    {
      "cell_type": "code",
      "metadata": {
        "id": "KDkvgvvv8c-r",
        "colab_type": "code",
        "colab": {}
      },
      "source": [
        ""
      ],
      "execution_count": 0,
      "outputs": []
    }
  ]
}