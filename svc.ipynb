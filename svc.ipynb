{
  "nbformat": 4,
  "nbformat_minor": 0,
  "metadata": {
    "colab": {
      "name": "svc.ipynb",
      "version": "0.3.2",
      "provenance": [],
      "include_colab_link": true
    },
    "kernelspec": {
      "name": "python3",
      "display_name": "Python 3"
    }
  },
  "cells": [
    {
      "cell_type": "markdown",
      "metadata": {
        "id": "view-in-github",
        "colab_type": "text"
      },
      "source": [
        "<a href=\"https://colab.research.google.com/github/prayasshrivastava/Machine-learning/blob/master/svc.ipynb\" target=\"_parent\"><img src=\"https://colab.research.google.com/assets/colab-badge.svg\" alt=\"Open In Colab\"/></a>"
      ]
    },
    {
      "cell_type": "code",
      "metadata": {
        "id": "ZWgMdhfzMDow",
        "colab_type": "code",
        "colab": {}
      },
      "source": [
        "from sklearn.datasets import load_digits"
      ],
      "execution_count": 0,
      "outputs": []
    },
    {
      "cell_type": "code",
      "metadata": {
        "id": "weSTf9v9MLAQ",
        "colab_type": "code",
        "colab": {}
      },
      "source": [
        "# loading digit data\n",
        "\n",
        "digit=load_digits()"
      ],
      "execution_count": 0,
      "outputs": []
    },
    {
      "cell_type": "code",
      "metadata": {
        "id": "14az3kZBMViK",
        "colab_type": "code",
        "colab": {
          "base_uri": "https://localhost:8080/",
          "height": 33
        },
        "outputId": "35926ace-d851-47a7-cf7d-c65bda18e532"
      },
      "source": [
        "# des\n",
        "\n",
        "dir(digit)"
      ],
      "execution_count": 206,
      "outputs": [
        {
          "output_type": "execute_result",
          "data": {
            "text/plain": [
              "['DESCR', 'data', 'images', 'target', 'target_names']"
            ]
          },
          "metadata": {
            "tags": []
          },
          "execution_count": 206
        }
      ]
    },
    {
      "cell_type": "code",
      "metadata": {
        "id": "Sz6v3_8cMr-e",
        "colab_type": "code",
        "colab": {}
      },
      "source": [
        "# features\n",
        "\n",
        "features=digit.data"
      ],
      "execution_count": 0,
      "outputs": []
    },
    {
      "cell_type": "code",
      "metadata": {
        "id": "WR1uPjglMySc",
        "colab_type": "code",
        "colab": {}
      },
      "source": [
        "# label\n",
        "\n",
        "label=digit.target"
      ],
      "execution_count": 0,
      "outputs": []
    },
    {
      "cell_type": "code",
      "metadata": {
        "id": "Ob6_x_08M-GR",
        "colab_type": "code",
        "colab": {}
      },
      "source": [
        "# training and testing\n",
        "\n",
        "from sklearn.model_selection import train_test_split"
      ],
      "execution_count": 0,
      "outputs": []
    },
    {
      "cell_type": "code",
      "metadata": {
        "id": "BT-6c5FtNKbj",
        "colab_type": "code",
        "colab": {}
      },
      "source": [
        "X,x,Y,y=train_test_split(features,label,test_size=0.2)"
      ],
      "execution_count": 0,
      "outputs": []
    },
    {
      "cell_type": "code",
      "metadata": {
        "id": "y7_TEjvFNYwQ",
        "colab_type": "code",
        "colab": {}
      },
      "source": [
        "# data visualization\n",
        "\n",
        "import matplotlib.pyplot as plt"
      ],
      "execution_count": 0,
      "outputs": []
    },
    {
      "cell_type": "code",
      "metadata": {
        "id": "MCSVvVAONkWj",
        "colab_type": "code",
        "colab": {
          "base_uri": "https://localhost:8080/",
          "height": 286
        },
        "outputId": "4cf697ad-391d-44b5-ba44-04431978d2e9"
      },
      "source": [
        "plt.imshow(digit.images[0])"
      ],
      "execution_count": 212,
      "outputs": [
        {
          "output_type": "execute_result",
          "data": {
            "text/plain": [
              "<matplotlib.image.AxesImage at 0x7fc67bf90fd0>"
            ]
          },
          "metadata": {
            "tags": []
          },
          "execution_count": 212
        },
        {
          "output_type": "display_data",
          "data": {
            "image/png": "[encoded data removed]",
            "text/plain": [
              "<Figure size 432x288 with 1 Axes>"
            ]
          },
          "metadata": {
            "tags": []
          }
        }
      ]
    },
    {
      "cell_type": "code",
      "metadata": {
        "id": "z91iENfePitG",
        "colab_type": "code",
        "colab": {}
      },
      "source": [
        "from sklearn.svm import SVC"
      ],
      "execution_count": 0,
      "outputs": []
    },
    {
      "cell_type": "code",
      "metadata": {
        "id": "OnQu9y13Nq25",
        "colab_type": "code",
        "colab": {}
      },
      "source": [
        "# callinf clf\n",
        "\n",
        "clf=SVC()"
      ],
      "execution_count": 0,
      "outputs": []
    },
    {
      "cell_type": "code",
      "metadata": {
        "id": "06NOgoeBO9r8",
        "colab_type": "code",
        "colab": {
          "base_uri": "https://localhost:8080/",
          "height": 70
        },
        "outputId": "acf2c704-9889-4962-9197-d480064892b3"
      },
      "source": [
        "# now training my classifier\n",
        "\n",
        "trained=clf.fit(X,Y)"
      ],
      "execution_count": 215,
      "outputs": [
        {
          "output_type": "stream",
          "text": [
            "/usr/local/lib/python3.6/dist-packages/sklearn/svm/base.py:193: FutureWarning: The default value of gamma will change from 'auto' to 'scale' in version 0.22 to account better for unscaled features. Set gamma explicitly to 'auto' or 'scale' to avoid this warning.\n",
            "  \"avoid this warning.\", FutureWarning)\n"
          ],
          "name": "stderr"
        }
      ]
    },
    {
      "cell_type": "code",
      "metadata": {
        "id": "Ww1p20BUPKFA",
        "colab_type": "code",
        "colab": {}
      },
      "source": [
        "# now time for prediction\n",
        "\n",
        "output=trained.predict(x)"
      ],
      "execution_count": 0,
      "outputs": []
    },
    {
      "cell_type": "code",
      "metadata": {
        "id": "sdizcdQHPrGA",
        "colab_type": "code",
        "colab": {
          "base_uri": "https://localhost:8080/",
          "height": 301
        },
        "outputId": "aee5303b-aa45-423a-aaaf-7de8e41201d4"
      },
      "source": [
        "output"
      ],
      "execution_count": 217,
      "outputs": [
        {
          "output_type": "execute_result",
          "data": {
            "text/plain": [
              "array([3, 3, 5, 3, 1, 5, 3, 3, 3, 3, 5, 9, 6, 3, 2, 0, 3, 2, 4, 3, 3, 3,\n",
              "       3, 6, 3, 7, 2, 6, 2, 3, 3, 3, 3, 3, 0, 3, 6, 3, 3, 0, 7, 4, 7, 3,\n",
              "       0, 3, 3, 6, 7, 3, 3, 3, 3, 3, 3, 3, 4, 7, 2, 1, 3, 1, 3, 1, 3, 3,\n",
              "       3, 6, 8, 2, 3, 9, 9, 3, 7, 1, 3, 3, 3, 2, 3, 6, 8, 3, 4, 6, 9, 0,\n",
              "       5, 7, 3, 9, 3, 4, 8, 3, 4, 0, 4, 3, 7, 9, 6, 3, 3, 4, 3, 3, 3, 9,\n",
              "       7, 6, 7, 3, 9, 3, 3, 3, 1, 3, 0, 3, 2, 3, 3, 1, 3, 9, 2, 3, 3, 2,\n",
              "       3, 6, 5, 3, 4, 7, 3, 0, 7, 3, 3, 3, 6, 2, 3, 9, 7, 3, 2, 1, 3, 4,\n",
              "       3, 6, 2, 3, 0, 3, 3, 3, 3, 3, 6, 2, 9, 6, 9, 3, 2, 3, 3, 3, 6, 3,\n",
              "       3, 3, 3, 9, 8, 9, 7, 3, 4, 5, 3, 6, 1, 3, 3, 1, 3, 3, 3, 3, 4, 3,\n",
              "       0, 3, 3, 6, 3, 3, 3, 0, 3, 3, 2, 3, 3, 3, 4, 3, 6, 7, 5, 3, 8, 3,\n",
              "       3, 3, 2, 5, 3, 8, 5, 9, 7, 3, 3, 1, 1, 2, 0, 8, 3, 3, 0, 3, 3, 3,\n",
              "       6, 3, 0, 1, 3, 2, 5, 5, 0, 3, 5, 0, 3, 3, 1, 9, 3, 4, 3, 3, 7, 6,\n",
              "       5, 3, 1, 3, 3, 5, 3, 5, 5, 3, 3, 3, 3, 3, 2, 4, 3, 6, 3, 9, 3, 0,\n",
              "       3, 4, 9, 8, 3, 3, 9, 5, 6, 3, 3, 3, 7, 2, 5, 3, 5, 3, 3, 3, 0, 6,\n",
              "       3, 1, 1, 3, 3, 3, 3, 3, 3, 3, 2, 3, 0, 3, 3, 3, 3, 3, 3, 5, 1, 4,\n",
              "       2, 3, 3, 8, 8, 3, 5, 7, 3, 3, 7, 1, 9, 1, 6, 3, 3, 7, 3, 3, 3, 3,\n",
              "       3, 0, 3, 3, 3, 2, 3, 9])"
            ]
          },
          "metadata": {
            "tags": []
          },
          "execution_count": 217
        }
      ]
    },
    {
      "cell_type": "code",
      "metadata": {
        "id": "tQIZT86XP07t",
        "colab_type": "code",
        "colab": {
          "base_uri": "https://localhost:8080/",
          "height": 33
        },
        "outputId": "0b021290-7a07-46f3-956b-a0b11872633c"
      },
      "source": [
        "from sklearn.metrics import accuracy_score\n",
        "accuracy_score(output,y)"
      ],
      "execution_count": 218,
      "outputs": [
        {
          "output_type": "execute_result",
          "data": {
            "text/plain": [
              "0.5944444444444444"
            ]
          },
          "metadata": {
            "tags": []
          },
          "execution_count": 218
        }
      ]
    },
    {
      "cell_type": "code",
      "metadata": {
        "id": "OpCng9X8QBua",
        "colab_type": "code",
        "colab": {}
      },
      "source": [
        ""
      ],
      "execution_count": 0,
      "outputs": []
    }
  ]
}